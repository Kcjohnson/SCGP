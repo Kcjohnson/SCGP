{
 "cells": [
  {
   "cell_type": "code",
   "execution_count": 1,
   "metadata": {},
   "outputs": [],
   "source": [
    "import json\n",
    "SAMPLES_META = json.load(open('/projects/barthf/GLASS-WG/data/ref/test_samples_v2.json'))"
   ]
  },
  {
   "cell_type": "code",
   "execution_count": 33,
   "metadata": {},
   "outputs": [],
   "source": [
    "BAM_FILES = {}\n",
    "BAM_READGROUPS = {}\n",
    "FQ_FILES = {}\n",
    "SAMPLES = []\n",
    "for case in SAMPLES_META:\n",
    "    for sample in case[\"samples\"]:\n",
    "        SAMPLES.append(sample[\"sample_id\"])\n",
    "        FQ_FILES[sample[\"sample_id\"]] = {}\n",
    "        for file in sample[\"files\"]:\n",
    "            if file[\"file_format\"] == \"BAM\":\n",
    "                BAM_FILES[sample[\"sample_id\"]] = file[\"file_name\"]\n",
    "            if file[\"file_format\"] == \"FQ\":\n",
    "                FQ_FILES[sample[\"sample_id\"]][file[\"readgroups\"][0][\"rg_ID\"]] = file[\"file_name\"].split(\",\")"
   ]
  },
  {
   "cell_type": "code",
   "execution_count": 8,
   "metadata": {},
   "outputs": [
    {
     "data": {
      "text/plain": [
       "{'testT-A': 'download/testT-A/testT-A.bam',\n",
       " 'testT-B': 'download/testT-B/testT-B.bam'}"
      ]
     },
     "execution_count": 8,
     "metadata": {},
     "output_type": "execute_result"
    }
   ],
   "source": [
    "BAM_FILES"
   ]
  },
  {
   "cell_type": "code",
   "execution_count": 34,
   "metadata": {},
   "outputs": [
    {
     "data": {
      "text/plain": [
       "{'testT-A': {},\n",
       " 'testN-A': {'6209_1#3': ['fastq/testN-A/testN-A_QTL190044_B05B0ABXX_L1_R1.fq',\n",
       "   'fastq/testN-A/testN-A_QTL190044_B05B0ABXX_L1_R2.fq'],\n",
       "  '6209_2#3': ['fastq/testN-A/testN-A_QTL190044_B05B0ABXX_L2_R1.fq',\n",
       "   'fastq/testN-A/testN-A_QTL190044_B05B0ABXX_L2_R2.fq'],\n",
       "  '6209_3#3': ['fastq/testN-A/testN-A_QTL190044_B05B0ABXX_L3_R1.fq',\n",
       "   'fastq/testN-A/testN-A_QTL190044_B05B0ABXX_L3_R2.fq'],\n",
       "  '6209_4#3': ['fastq/testN-A/testN-A_QTL190044_B05B0ABXX_L4_R1.fq',\n",
       "   'fastq/testN-A/testN-A_QTL190044_B05B0ABXX_L4_R2.fq'],\n",
       "  '6209_5#3': ['fastq/testN-A/testN-A_QTL190044_B05B0ABXX_L6_R1.fq',\n",
       "   'fastq/testN-A/testN-A_QTL190044_B05B0ABXX_L6_R2.fq'],\n",
       "  '6209_7#3': ['fastq/testN-A/testN-A_QTL190044_B05B0ABXX_L7_R1.fq',\n",
       "   'fastq/testN-A/testN-A_QTL190044_B05B0ABXX_L7_R2.fq'],\n",
       "  '6209_8#3': ['fastq/testN-A/testN-A_QTL190044_B05B0ABXX_L8_R1.fq',\n",
       "   'fastq/testN-A/testN-A_QTL190044_B05B0ABXX_L8_R2.fq'],\n",
       "  '6206_7#3': ['fastq/testN-A/testN-A_QTL190044_B06GPABXX_L7_R1.fq',\n",
       "   'fastq/testN-A/testN-A_QTL190044_B06GPABXX_L7_R2.fq'],\n",
       "  '6172_7#3': ['fastq/testN-A/testN-A_QTL190044_C004YABXX_L7_R1.fq',\n",
       "   'fastq/testN-A/testN-A_QTL190044_C004YABXX_L7_R2.fq']},\n",
       " 'testT-B': {}}"
      ]
     },
     "execution_count": 34,
     "metadata": {},
     "output_type": "execute_result"
    }
   ],
   "source": [
    "FQ_FILES"
   ]
  },
  {
   "cell_type": "code",
   "execution_count": 29,
   "metadata": {},
   "outputs": [
    {
     "data": {
      "text/plain": [
       "'6172_7#3'"
      ]
     },
     "execution_count": 29,
     "metadata": {},
     "output_type": "execute_result"
    }
   ],
   "source": [
    "SAMPLES_META[0][\"samples\"][0][\"files\"][0][\"readgroups\"][0][\"rg_ID\"]"
   ]
  },
  {
   "cell_type": "code",
   "execution_count": 32,
   "metadata": {},
   "outputs": [
    {
     "data": {
      "text/plain": [
       "['bla', 'yo']"
      ]
     },
     "execution_count": 32,
     "metadata": {},
     "output_type": "execute_result"
    }
   ],
   "source": [
    "'bla,yo'.split(',')"
   ]
  },
  {
   "cell_type": "code",
   "execution_count": null,
   "metadata": {},
   "outputs": [],
   "source": []
  }
 ],
 "metadata": {
  "kernelspec": {
   "display_name": "Python 3",
   "language": "python",
   "name": "python3"
  },
  "language_info": {
   "codemirror_mode": {
    "name": "ipython",
    "version": 3
   },
   "file_extension": ".py",
   "mimetype": "text/x-python",
   "name": "python",
   "nbconvert_exporter": "python",
   "pygments_lexer": "ipython3",
   "version": "3.6.4"
  }
 },
 "nbformat": 4,
 "nbformat_minor": 2
}
