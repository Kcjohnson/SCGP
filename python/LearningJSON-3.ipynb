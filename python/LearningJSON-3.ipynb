{
 "cells": [
  {
   "cell_type": "code",
   "execution_count": 13,
   "metadata": {},
   "outputs": [],
   "source": [
    "import json\n",
    "SAMPLES_META = json.load(open('../data/ref/TCGA_WGS_GDC_legacy_UUIDs.json'))"
   ]
  },
  {
   "cell_type": "code",
   "execution_count": 14,
   "metadata": {},
   "outputs": [],
   "source": [
    "BAM_FILES = {}\n",
    "for case in SAMPLES_META:\n",
    "    for sample in case[\"samples\"]:\n",
    "        for file in sample[\"files\"]:\n",
    "            if file[\"format\"] == \"BAM\":\n",
    "                BAM_FILES[file[\"id\"]] = file[\"file_name\"]"
   ]
  },
  {
   "cell_type": "code",
   "execution_count": 15,
   "metadata": {},
   "outputs": [
    {
     "data": {
      "text/plain": [
       "{'dae9460c-3434-40e6-96d1-34b458464c4d': 'G49538.TCGA-06-0171-10A-01D-A33C-08.2.bam',\n",
       " '9b5a849c-703d-4d9c-81f4-6bd061fd21a8': 'G49538.TCGA-06-0171-01A-02D-A33C-08.2.bam',\n",
       " '8e403d99-1eb2-445f-9ebd-af4dde907b49': 'G49538.TCGA-06-0171-02A-11D-2280-08.2.bam',\n",
       " '0ed1dc06-a73c-49cc-bfc5-99496a9fc3d1': 'G49538.TCGA-06-0210-10A-01D-1491-08.1.bam',\n",
       " '47e69676-3a06-4711-ab31-5c65c734e472': 'G49538.TCGA-06-0210-01A-01D-1491-08.1.bam',\n",
       " '6d80ca64-3d9f-46dc-96ba-e249adaaf2f6': 'G49538.TCGA-06-0210-02A-01D-2280-08.1.bam',\n",
       " '8e6db5b3-96e4-4a80-9604-99a9433a1bb5': 'G35154.TCGA-FG-5965-01B-11D-1893-08.2.bam',\n",
       " '68fdf201-9dfe-443b-8933-554f011fc87c': 'G35154.TCGA-FG-5965-02B-11D-A29Q-08.2.bam',\n",
       " '164a91ab-6bd9-4c7a-a9fd-ddaf83d0aade': 'G35154.TCGA-FG-5965-10A-01D-1893-08.2.bam',\n",
       " '09cdd379-ed5f-4bcd-96d7-53dcb3469e3c': 'G35154.TCGA-FG-5965-02A-11D-A29Q-08.2.bam',\n",
       " '7f2ad00f-02aa-4094-9662-9e8092d240e1': 'G35154.TCGA-DU-7304-02A-12D-A36O-08.4.bam',\n",
       " '3aef62ad-f4ed-44ff-aaa9-13bad668bb24': 'G35154.TCGA-DU-7304-10A-01D-2086-08.4.bam',\n",
       " '7b4cd316-b4cc-4a73-a4ad-767a6c64ac4d': 'G35154.TCGA-DU-7304-01A-12D-A461-08.4.bam',\n",
       " 'd184ed85-cb21-43cc-95f6-0619f9283b29': 'G35154.TCGA-DU-6397-02A-12D-A36O-08.3.bam',\n",
       " '24c6f54a-e7a2-4148-8335-045e3c74096e': 'G35154.TCGA-DU-6397-01A-11D-A461-08.3.bam',\n",
       " '623cc431-e17c-4b40-97ed-b5178540519c': 'G35154.TCGA-DU-6397-10A-01D-A461-08.3.bam',\n",
       " 'c68adb10-306f-4541-92b1-c6b5baa25d00': 'G49538.TCGA-06-0211-01A-01D-1491-08.1.bam',\n",
       " '631bce1e-fa7a-4ec3-9545-15630ca0c249': 'G49538.TCGA-06-0211-02A-02D-2280-08.1.bam',\n",
       " 'f3799eb9-aa31-4892-b2e6-b278c1e3f2e8': 'G49538.TCGA-06-0211-10A-01D-1491-08.1.bam',\n",
       " '8a20d221-bfb2-4832-afd6-dcab1e100a82': 'G35154.TCGA-TQ-A8XE-02A-11D-A36O-08.4.bam',\n",
       " '4558b98c-62e9-4761-8420-ead31f2035fa': 'G35154.TCGA-TQ-A8XE-10A-01D-A367-08.3.bam',\n",
       " '3bc46ccf-d9f8-41bd-a003-42e547c7d758': 'G35154.TCGA-TQ-A8XE-01A-11D-A36O-08.2.bam',\n",
       " 'e496b84b-9adf-462a-8d8f-7b336fa12626': 'G49538.TCGA-06-0190-01A-01D-1491-08.1.bam',\n",
       " 'f04aa2a8-0893-4143-9c55-621b2bcc01d5': 'G49538.TCGA-06-0190-10B-01D-A32W-08.1.bam',\n",
       " '5059c072-64dc-47ec-8569-5de233557ab4': 'G49538.TCGA-06-0190-02A-01D-2280-08.1.bam',\n",
       " 'c34d058a-bd0a-4020-8c94-21ecd4e31ef9': 'G35154.TCGA-DU-5872-10A-01D-A465-08.1.bam',\n",
       " '83a061e8-88d1-4f4e-8568-8eda2807ad1a': 'G35154.TCGA-DU-5872-02A-21D-A36O-08.1.bam',\n",
       " '359efa91-062f-491e-805a-0130efb943eb': 'G35154.TCGA-DU-5872-01A-11D-A465-08.1.bam',\n",
       " '6f6fd391-7fbf-4f78-b27d-7f29183238a3': 'G35154.TCGA-DU-5870-10A-01D-A461-08.3.bam',\n",
       " '781639a0-ea42-4e90-8e48-2dd0de69143f': 'G35154.TCGA-DU-5870-01A-11D-A461-08.3.bam',\n",
       " '074b6b1f-4846-42c9-a6dd-ea94aabfb270': 'G35154.TCGA-DU-5870-02A-12D-A36O-08.3.bam',\n",
       " '958ecf79-2dcd-480b-a65f-d208b59fbf57': 'G35154.TCGA-DH-A669-10A-01D-A31J-08.3.bam',\n",
       " 'bc4e3b89-3a13-471f-8769-7d711cfbad8e': 'G35154.TCGA-DH-A669-02A-11D-A31L-08.3.bam',\n",
       " '5ce3eb80-b2f7-4ebe-bcda-690bfbf4a5ba': 'G35154.TCGA-DH-A669-01A-12D-A31L-08.3.bam',\n",
       " '896a3c30-42ec-4bb4-9b26-cb4ce573d73a': 'G35154.TCGA-FG-A4MT-10A-01D-A38T-08.3.bam',\n",
       " '19c19563-8424-46b9-b88c-72e6dcc4ec23': 'G35154.TCGA-FG-A4MT-01A-11D-A461-08.3.bam',\n",
       " 'c0b259dd-e27a-46af-a639-f80a0e1e7fff': 'G35154.TCGA-FG-A4MT-02A-11D-A29Q-08.3.bam',\n",
       " '95a7f273-e22c-4af9-b245-ca5d839080d2': 'G35154.TCGA-TQ-A7RV-10A-01D-A34A-08.3.bam',\n",
       " '90057127-5744-4f65-853a-66561166dcbc': 'G35154.TCGA-TQ-A7RV-01A-21D-A34A-08.3.bam',\n",
       " 'de819dc3-dbde-4a92-b859-86e1e2bcd3c4': 'G35154.TCGA-TQ-A7RV-02A-11D-A36O-08.3.bam',\n",
       " '2e36e341-bb8b-468c-bec6-a3cac541abf0': 'G35154.TCGA-TQ-A7RK-10A-01D-A33W-08.3.bam',\n",
       " '4b48a880-f86b-4e8b-9d21-65c14ba90284': 'G35154.TCGA-TQ-A7RK-01A-11D-A33T-08.3.bam',\n",
       " '18937bf6-6756-4b8b-8728-e1cabbc746c3': 'G35154.TCGA-TQ-A7RK-02B-11D-A401-08.3.bam',\n",
       " 'a68e5cb4-4fb0-4196-971a-3078fcf7bbc3': 'G35154.TCGA-TQ-A7RK-02A-11D-A36O-08.3.bam',\n",
       " 'b9fce6a3-6b9f-4ac6-9201-ca3a07c24adc': 'G49538.TCGA-14-1034-10A-01D-1492-08.3.bam',\n",
       " '08541db8-2e7a-44e8-af91-65a951e09952': 'G49538.TCGA-14-1034-01A-01D-1492-08.3.bam',\n",
       " '45652a31-3dd4-4c94-989c-b34086cbcc9c': 'G49538.TCGA-14-1034-02B-01D-2280-08.3.bam',\n",
       " '41c3ad23-569a-452e-8577-85a783c2a020': 'G35154.TCGA-TM-A7CF-01A-11D-A32B-08.4.bam',\n",
       " '96ad4e5b-aeec-4421-9d5e-120287a57086': 'G35154.TCGA-TM-A7CF-10A-01D-A329-08.4.bam',\n",
       " '1ab4fe08-6067-42db-94b9-7cf6729b1dba': 'G35154.TCGA-TM-A7CF-02A-11D-A32B-08.4.bam',\n",
       " '684acac7-d7c1-4383-b72f-66e303b0d0e7': 'G49538.TCGA-06-0221-01A-01D-A32W-08.1.bam',\n",
       " '6fd634c2-7dc1-4b21-b2d4-ab2334f8dd9a': 'G49538.TCGA-06-0221-10A-01D-A35R-08.1.bam',\n",
       " '6619b98a-9891-4fe3-976c-63cc7ce714e9': 'G49538.TCGA-06-0221-02A-11D-2280-08.1.bam',\n",
       " 'e8c73506-ba8e-44dc-87cd-4305bdb6b7f9': 'G35154.TCGA-DU-6404-01A-11D-A461-08.3.bam',\n",
       " '444d6791-2bcb-4356-9ce9-5e8bd11c186f': 'G35154.TCGA-DU-6404-02B-11D-A36O-08.3.bam',\n",
       " '065e1f84-f913-4932-b59f-0700a5d0a239': 'G35154.TCGA-DU-6404-02A-21D-A36O-08.3.bam',\n",
       " '83019f18-87de-42c9-b3af-30c0cd151fe0': 'G35154.TCGA-DU-6404-10A-01D-A461-08.3.bam',\n",
       " '5c3c83f3-c65b-4c23-99d4-64183122fe2c': 'G35154.TCGA-DU-6407-02A-12D-A36O-08.2.bam',\n",
       " 'cfed9604-e0dd-47be-8aa0-026854f244e2': 'G35154.TCGA-DU-6407-10A-01D-1705-08.2.bam',\n",
       " '52ae2dd2-f573-41c6-ad1a-18b19c9eea35': 'G35154.TCGA-DU-6407-01A-13D-1705-08.1.bam',\n",
       " '841fb551-ccd2-4f66-87f1-32acf8af2e33': 'G35154.TCGA-DU-6407-02B-11D-A36O-08.2.bam',\n",
       " '4af17e02-7d17-41c3-9ee7-32c7c1d5e163': 'G49538.TCGA-19-1389-01A-01D-2319-08.1.bam',\n",
       " '5120b191-e1bb-49c6-9f87-858a75e3a730': 'G49538.TCGA-19-1389-02A-21D-A32W-08.1.bam',\n",
       " '807c7d59-77b4-428a-9c10-7bb7f24b43b6': 'G49538.TCGA-19-1389-10D-01D-2364-08.1.bam',\n",
       " '1d482a80-dbcc-48ae-8e59-ad77dc2d332c': 'G49538.TCGA-06-0152-02A-01D-2280-08.1.bam',\n",
       " '779d993e-79ff-4d76-8f90-ea4f76aa1be3': 'G2145.TCGA-06-0152-10A-01D.13.bam',\n",
       " '2b8f90c5-4947-485a-bae1-932e1c4cd57c': 'G2145.TCGA-06-0152-01A-02D.12.bam',\n",
       " 'd2cd022c-b609-4f21-9be9-f01c78e24321': 'G49538.TCGA-14-1402-02A-01D-2280-08.3.bam',\n",
       " 'b83634d5-24f0-480f-8719-3fa10ee45090': 'G49538.TCGA-14-1402-10A-01D-1493-08.3.bam',\n",
       " '16d26bf2-f6a6-472e-b26a-fcd17cf66832': 'G49538.TCGA-14-1402-01A-01D-1493-08.3.bam',\n",
       " '759af811-403e-4320-a598-d3291f429679': 'G49538.TCGA-06-0125-01A-01D-1490-08.2.bam',\n",
       " 'd6a1530a-9e80-42a3-9636-6eebb618780a': 'G49538.TCGA-06-0125-10A-01D-1490-08.2.bam',\n",
       " '2ff37906-c3cc-463a-90dc-10485903705d': 'G49538.TCGA-06-0125-02A-11D-2280-08.2.bam'}"
      ]
     },
     "execution_count": 15,
     "metadata": {},
     "output_type": "execute_result"
    }
   ],
   "source": [
    "BAM_FILES"
   ]
  },
  {
   "cell_type": "code",
   "execution_count": null,
   "metadata": {},
   "outputs": [],
   "source": []
  }
 ],
 "metadata": {
  "kernelspec": {
   "display_name": "Python 3",
   "language": "python",
   "name": "python3"
  },
  "language_info": {
   "codemirror_mode": {
    "name": "ipython",
    "version": 3
   },
   "file_extension": ".py",
   "mimetype": "text/x-python",
   "name": "python",
   "nbconvert_exporter": "python",
   "pygments_lexer": "ipython3",
   "version": "3.6.4"
  }
 },
 "nbformat": 4,
 "nbformat_minor": 2
}
