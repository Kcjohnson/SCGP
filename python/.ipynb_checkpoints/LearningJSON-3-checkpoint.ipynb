{
 "cells": [
  {
   "cell_type": "code",
   "execution_count": 1,
   "metadata": {},
   "outputs": [],
   "source": [
    "import json\n",
    "SAMPLES_META = json.load(open('/projects/barthf/GLASS-WG/data/ref/test_samples_v2.json'))"
   ]
  },
  {
   "cell_type": "code",
   "execution_count": 40,
   "metadata": {},
   "outputs": [],
   "source": [
    "BAM_FILES = {}\n",
    "BAM_READGROUPS = {}\n",
    "READGROUP_SAMPLE = {}\n",
    "FQ_FILES = {}\n",
    "SAMPLES = []\n",
    "for case in SAMPLES_META:\n",
    "    for sample in case[\"samples\"]:\n",
    "        SAMPLES.append(sample[\"sample_id\"])\n",
    "        FQ_FILES[sample[\"sample_id\"]] = {}\n",
    "        for file in sample[\"files\"]:\n",
    "            if file[\"file_format\"] == \"BAM\":\n",
    "                BAM_FILES[sample[\"sample_id\"]] = file[\"file_name\"]\n",
    "                BAM_READGROUPS[sample[\"sample_id\"]] = [readgroup[\"rg_ID\"] for readgroup in file[\"readgroups\"]]\n",
    "                for readgroup in file[\"readgroups\"]:\n",
    "                    READGROUP_SAMPLE[readgroup[\"rg_ID\"]] = sample[\"sample_id\"]\n",
    "            if file[\"file_format\"] == \"FQ\":\n",
    "                FQ_FILES[sample[\"sample_id\"]][file[\"readgroups\"][0][\"rg_ID\"]] = file[\"file_name\"].split(\",\")"
   ]
  },
  {
   "cell_type": "code",
   "execution_count": 8,
   "metadata": {},
   "outputs": [
    {
     "data": {
      "text/plain": [
       "{'testT-A': 'download/testT-A/testT-A.bam',\n",
       " 'testT-B': 'download/testT-B/testT-B.bam'}"
      ]
     },
     "execution_count": 8,
     "metadata": {},
     "output_type": "execute_result"
    }
   ],
   "source": [
    "BAM_FILES"
   ]
  },
  {
   "cell_type": "code",
   "execution_count": 46,
   "metadata": {},
   "outputs": [
    {
     "data": {
      "text/plain": [
       "{'testT-A': ['6172_7#3',\n",
       "  '6206_7#3',\n",
       "  '6209_1#3',\n",
       "  '6209_2#3',\n",
       "  '6209_3#3',\n",
       "  '6209_4#3',\n",
       "  '6209_5#3',\n",
       "  '6209_5#3',\n",
       "  '6209_7#3',\n",
       "  '6209_8#3'],\n",
       " 'testT-B': ['1']}"
      ]
     },
     "execution_count": 46,
     "metadata": {},
     "output_type": "execute_result"
    }
   ],
   "source": []
  },
  {
   "cell_type": "code",
   "execution_count": 29,
   "metadata": {},
   "outputs": [
    {
     "data": {
      "text/plain": [
       "'6172_7#3'"
      ]
     },
     "execution_count": 29,
     "metadata": {},
     "output_type": "execute_result"
    }
   ],
   "source": [
    "SAMPLES_META[0][\"samples\"][0][\"files\"][0][\"readgroups\"][0][\"rg_ID\"]"
   ]
  },
  {
   "cell_type": "code",
   "execution_count": 43,
   "metadata": {},
   "outputs": [
    {
     "data": {
      "text/plain": [
       "dict_keys(['6172_7#3', '6206_7#3', '6209_1#3', '6209_2#3', '6209_3#3', '6209_4#3', '6209_5#3', '6209_7#3', '6209_8#3', '1'])"
      ]
     },
     "execution_count": 43,
     "metadata": {},
     "output_type": "execute_result"
    }
   ],
   "source": [
    "READGROUP_SAMPLE.keys()"
   ]
  },
  {
   "cell_type": "code",
   "execution_count": 39,
   "metadata": {},
   "outputs": [
    {
     "data": {
      "text/plain": [
       "['bwa/test/test.6172_7#3.realn.bam',\n",
       " 'bwa/test/test.6206_7#3.realn.bam',\n",
       " 'bwa/test/test.6209_1#3.realn.bam',\n",
       " 'bwa/test/test.6209_2#3.realn.bam',\n",
       " 'bwa/test/test.6209_3#3.realn.bam',\n",
       " 'bwa/test/test.6209_4#3.realn.bam',\n",
       " 'bwa/test/test.6209_5#3.realn.bam',\n",
       " 'bwa/test/test.6209_5#3.realn.bam',\n",
       " 'bwa/test/test.6209_7#3.realn.bam',\n",
       " 'bwa/test/test.6209_8#3.realn.bam']"
      ]
     },
     "execution_count": 39,
     "metadata": {},
     "output_type": "execute_result"
    }
   ],
   "source": [
    "[\"bwa/{sample}/{sample}.{rg}.realn.bam\".format(sample=\"test\", rg=rg) for rg in BAM_READGROUPS[\"testT-A\"]]"
   ]
  },
  {
   "cell_type": "code",
   "execution_count": 44,
   "metadata": {},
   "outputs": [],
   "source": [
    "SAMPLE_READGROUP = { \"SampleA\" : [ \"RG1\", \"RG2\", \"RG3\" ], \"SampleB\" :  [ \"RG1\" ], \"SampleC\" : [ \"RG1\", \"RG2\" ] }\n",
    "e"
   ]
  },
  {
   "cell_type": "code",
   "execution_count": 45,
   "metadata": {},
   "outputs": [
    {
     "ename": "NameError",
     "evalue": "name 'expand' is not defined",
     "output_type": "error",
     "traceback": [
      "\u001b[0;31m---------------------------------------------------------------------------\u001b[0m",
      "\u001b[0;31mNameError\u001b[0m                                 Traceback (most recent call last)",
      "\u001b[0;32m<ipython-input-45-4c6aa50a591b>\u001b[0m in \u001b[0;36m<module>\u001b[0;34m()\u001b[0m\n\u001b[0;32m----> 1\u001b[0;31m \u001b[0mexpand\u001b[0m\u001b[0;34m(\u001b[0m\u001b[0;34m)\u001b[0m\u001b[0;34m\u001b[0m\u001b[0m\n\u001b[0m",
      "\u001b[0;31mNameError\u001b[0m: name 'expand' is not defined"
     ]
    }
   ],
   "source": [
    "\"{sample}{readgroup}\""
   ]
  },
  {
   "cell_type": "code",
   "execution_count": 60,
   "metadata": {},
   "outputs": [],
   "source": [
    "import pandas as pd\n",
    "rgmap = pd.DataFrame(\n",
    "    {\n",
    "        \"READ_GROUP_ID\": BAM_READGROUPS['testT-A'],\n",
    "        \"OUTPUT\": [\"{sample}.{rg}.bam\".format(sample=\"ccc\", rg=rg) for rg in BAM_READGROUPS['testT-A']]\n",
    "    },\n",
    "    columns = [\"READ_GROUP_ID\", \"OUTPUT\"]\n",
    ")\n",
    "rgmap\n",
    "rgmap.to_csv(\"test.tsv\", sep=\"\\t\", index=False)"
   ]
  },
  {
   "cell_type": "code",
   "execution_count": null,
   "metadata": {},
   "outputs": [],
   "source": []
  }
 ],
 "metadata": {
  "kernelspec": {
   "display_name": "Python 3",
   "language": "python",
   "name": "python3"
  },
  "language_info": {
   "codemirror_mode": {
    "name": "ipython",
    "version": 3
   },
   "file_extension": ".py",
   "mimetype": "text/x-python",
   "name": "python",
   "nbconvert_exporter": "python",
   "pygments_lexer": "ipython3",
   "version": "3.6.4"
  }
 },
 "nbformat": 4,
 "nbformat_minor": 2
}
