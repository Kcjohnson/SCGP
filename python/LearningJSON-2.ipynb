{
 "cells": [
  {
   "cell_type": "code",
   "execution_count": 6,
   "metadata": {},
   "outputs": [],
   "source": [
    "import json\n",
    "data = json.load(open('../data/ref/test_samples.json'))"
   ]
  },
  {
   "cell_type": "code",
   "execution_count": 13,
   "metadata": {},
   "outputs": [
    {
     "ename": "SyntaxError",
     "evalue": "invalid syntax (<ipython-input-13-1381aeb0eb05>, line 1)",
     "output_type": "error",
     "traceback": [
      "\u001b[0;36m  File \u001b[0;32m\"<ipython-input-13-1381aeb0eb05>\"\u001b[0;36m, line \u001b[0;32m1\u001b[0m\n\u001b[0;31m    class(data)\u001b[0m\n\u001b[0m         ^\u001b[0m\n\u001b[0;31mSyntaxError\u001b[0m\u001b[0;31m:\u001b[0m invalid syntax\n"
     ]
    }
   ],
   "source": [
    "class(data)"
   ]
  },
  {
   "cell_type": "code",
   "execution_count": 26,
   "metadata": {},
   "outputs": [
    {
     "data": {
      "text/plain": [
       "['test1.bam', 'test3.bam']"
      ]
     },
     "execution_count": 26,
     "metadata": {},
     "output_type": "execute_result"
    }
   ],
   "source": [
    "bam_files = []\n",
    "for value in data:\n",
    "    if value[\"format\"] == \"BAM\":\n",
    "        bam_files.append(value[\"files\"][0][\"file_name\"])\n",
    "\n",
    "bam_files"
   ]
  },
  {
   "cell_type": "code",
   "execution_count": 28,
   "metadata": {},
   "outputs": [
    {
     "data": {
      "text/plain": [
       "[['_test2_QTL190044_B05B0ABXX_L1_R1.fq',\n",
       "  '_test2_QTL190044_B05B0ABXX_L2_R1.fq',\n",
       "  '_test2_QTL190044_B05B0ABXX_L3_R1.fq',\n",
       "  '_test2_QTL190044_B05B0ABXX_L4_R1.fq',\n",
       "  '_test2_QTL190044_B05B0ABXX_L5_R1.fq',\n",
       "  '_test2_QTL190044_B05B0ABXX_L6_R1.fq',\n",
       "  '_test2_QTL190044_B05B0ABXX_L7_R1.fq',\n",
       "  '_test2_QTL190044_B05B0ABXX_L8_R1.fq',\n",
       "  '_test2_QTL190044_B06GPABXX_L7_R1.fq',\n",
       "  '_test2_QTL190044_C004YABXX_L7_R1.fq']]"
      ]
     },
     "execution_count": 28,
     "metadata": {},
     "output_type": "execute_result"
    }
   ],
   "source": [
    "fq_files = []\n",
    "for value in data:\n",
    "    if value[\"format\"] == \"FASTQ\":\n",
    "        fq_files.append([item[\"R1\"] for item in value[\"files\"]])\n",
    "        \n",
    "fq_files"
   ]
  },
  {
   "cell_type": "code",
   "execution_count": 22,
   "metadata": {},
   "outputs": [
    {
     "data": {
      "text/plain": [
       "{'batch': 'A',\n",
       " 'format': 'FASTQ',\n",
       " 'id': '_test2',\n",
       " 'aliquot_id': 'test',\n",
       " 'project': 'test',\n",
       " 'sample_type': 'test',\n",
       " 'file_size': 1,\n",
       " 'md5sum': 'test',\n",
       " 'sample_id': '_test2',\n",
       " 'case_id': 'test',\n",
       " 'files': [{'R1': '_test2_QTL190044_B05B0ABXX_L1_R1.fq',\n",
       "   'R2': '_test2_QTL190044_B05B0ABXX_L1_R2.fq',\n",
       "   'library': 'QTL190044',\n",
       "   'flowcell': 'B05B0ABXX',\n",
       "   'lane': 1},\n",
       "  {'R1': '_test2_QTL190044_B05B0ABXX_L2_R1.fq',\n",
       "   'R2': '_test2_QTL190044_B05B0ABXX_L2_R2.fq',\n",
       "   'library': 'QTL190044',\n",
       "   'flowcell': 'B05B0ABXX',\n",
       "   'lane': 2},\n",
       "  {'R1': '_test2_QTL190044_B05B0ABXX_L3_R1.fq',\n",
       "   'R2': '_test2_QTL190044_B05B0ABXX_L3_R2.fq',\n",
       "   'library': 'QTL190044',\n",
       "   'flowcell': 'B05B0ABXX',\n",
       "   'lane': 3},\n",
       "  {'R1': '_test2_QTL190044_B05B0ABXX_L4_R1.fq',\n",
       "   'R2': '_test2_QTL190044_B05B0ABXX_L4_R2.fq',\n",
       "   'library': 'QTL190044',\n",
       "   'flowcell': 'B05B0ABXX',\n",
       "   'lane': 4},\n",
       "  {'R1': '_test2_QTL190044_B05B0ABXX_L5_R1.fq',\n",
       "   'R2': '_test2_QTL190044_B05B0ABXX_L5_R2.fq',\n",
       "   'library': 'QTL190044',\n",
       "   'flowcell': 'B05B0ABXX',\n",
       "   'lane': 5},\n",
       "  {'R1': '_test2_QTL190044_B05B0ABXX_L6_R1.fq',\n",
       "   'R2': '_test2_QTL190044_B05B0ABXX_L6_R2.fq',\n",
       "   'library': 'QTL190044',\n",
       "   'flowcell': 'B05B0ABXX',\n",
       "   'lane': 6},\n",
       "  {'R1': '_test2_QTL190044_B05B0ABXX_L7_R1.fq',\n",
       "   'R2': '_test2_QTL190044_B05B0ABXX_L7_R2.fq',\n",
       "   'library': 'QTL190044',\n",
       "   'flowcell': 'B05B0ABXX',\n",
       "   'lane': 7},\n",
       "  {'R1': '_test2_QTL190044_B05B0ABXX_L8_R1.fq',\n",
       "   'R2': '_test2_QTL190044_B05B0ABXX_L8_R2.fq',\n",
       "   'library': 'QTL190044',\n",
       "   'flowcell': 'B05B0ABXX',\n",
       "   'lane': 8},\n",
       "  {'R1': '_test2_QTL190044_B06GPABXX_L7_R1.fq',\n",
       "   'R2': '_test2_QTL190044_B06GPABXX_L7_R2.fq',\n",
       "   'library': 'QTL190044',\n",
       "   'flowcell': 'B06GPABXX',\n",
       "   'lane': 7},\n",
       "  {'R1': '_test2_QTL190044_C004YABXX_L7_R1.fq',\n",
       "   'R2': '_test2_QTL190044_C004YABXX_L7_R2.fq',\n",
       "   'library': 'QTL190044',\n",
       "   'flowcell': 'C004YABXX',\n",
       "   'lane': 7}]}"
      ]
     },
     "execution_count": 22,
     "metadata": {},
     "output_type": "execute_result"
    }
   ],
   "source": [
    "data[1]"
   ]
  },
  {
   "cell_type": "code",
   "execution_count": null,
   "metadata": {},
   "outputs": [],
   "source": []
  }
 ],
 "metadata": {
  "kernelspec": {
   "display_name": "Python 3",
   "language": "python",
   "name": "python3"
  },
  "language_info": {
   "codemirror_mode": {
    "name": "ipython",
    "version": 3
   },
   "file_extension": ".py",
   "mimetype": "text/x-python",
   "name": "python",
   "nbconvert_exporter": "python",
   "pygments_lexer": "ipython3",
   "version": "3.6.4"
  }
 },
 "nbformat": 4,
 "nbformat_minor": 2
}
